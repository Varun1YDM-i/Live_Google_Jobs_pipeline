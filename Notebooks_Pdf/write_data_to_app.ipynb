{
 "cells": [
  {
   "cell_type": "code",
   "execution_count": 0,
   "metadata": {
    "application/vnd.databricks.v1+cell": {
     "cellMetadata": {
      "byteLimit": 2048000,
      "rowLimit": 10000
     },
     "inputWidgets": {},
     "nuid": "0b34e132-0c9d-400a-b509-fc2ebf525f6d",
     "showTitle": false,
     "tableResultSettingsMap": {},
     "title": ""
    }
   },
   "outputs": [],
   "source": [
    "from datetime import datetime\n",
    "import json\n",
    "from pyspark.sql.functions import to_date, col, current_date\n",
    "import pandas as pd\n"
   ]
  },
  {
   "cell_type": "code",
   "execution_count": 0,
   "metadata": {
    "application/vnd.databricks.v1+cell": {
     "cellMetadata": {
      "byteLimit": 2048000,
      "implicitDf": true,
      "rowLimit": 10000
     },
     "inputWidgets": {},
     "nuid": "d48c7e40-ce9a-4b63-8ee1-15c1cf9103a2",
     "showTitle": false,
     "tableResultSettingsMap": {},
     "title": ""
    }
   },
   "outputs": [],
   "source": [
    "%sql\n",
    "-- show catalogs"
   ]
  },
  {
   "cell_type": "code",
   "execution_count": 0,
   "metadata": {
    "application/vnd.databricks.v1+cell": {
     "cellMetadata": {
      "byteLimit": 2048000,
      "implicitDf": true,
      "rowLimit": 10000
     },
     "inputWidgets": {},
     "nuid": "284ee84e-e750-4c5e-a5ed-e4db39288642",
     "showTitle": false,
     "tableResultSettingsMap": {},
     "title": ""
    }
   },
   "outputs": [],
   "source": [
    "%sql\n",
    "use catalog job_marketplace"
   ]
  },
  {
   "cell_type": "code",
   "execution_count": 0,
   "metadata": {
    "application/vnd.databricks.v1+cell": {
     "cellMetadata": {
      "byteLimit": 2048000,
      "implicitDf": true,
      "rowLimit": 10000
     },
     "inputWidgets": {},
     "nuid": "40fd1617-1f3b-43a2-ad9f-88c8d08f7401",
     "showTitle": false,
     "tableResultSettingsMap": {},
     "title": ""
    }
   },
   "outputs": [],
   "source": [
    "%sql\n",
    "-- show schemas"
   ]
  },
  {
   "cell_type": "code",
   "execution_count": 0,
   "metadata": {
    "application/vnd.databricks.v1+cell": {
     "cellMetadata": {
      "byteLimit": 2048000,
      "rowLimit": 10000
     },
     "inputWidgets": {},
     "nuid": "19dc1ffb-cf7a-4658-953b-c3be09fcc48e",
     "showTitle": false,
     "tableResultSettingsMap": {},
     "title": ""
    }
   },
   "outputs": [],
   "source": [
    "df = spark.sql('select * from job_marketplace.silver_layer.clean_jobs')\n",
    "# display(df)"
   ]
  },
  {
   "cell_type": "code",
   "execution_count": 0,
   "metadata": {
    "application/vnd.databricks.v1+cell": {
     "cellMetadata": {
      "byteLimit": 2048000,
      "rowLimit": 10000
     },
     "inputWidgets": {},
     "nuid": "7f8c24ba-da6d-4c97-ab18-d83625523fe4",
     "showTitle": false,
     "tableResultSettingsMap": {},
     "title": ""
    }
   },
   "outputs": [],
   "source": [
    "# %pip install openpyxl"
   ]
  },
  {
   "cell_type": "code",
   "execution_count": 0,
   "metadata": {
    "application/vnd.databricks.v1+cell": {
     "cellMetadata": {
      "byteLimit": 2048000,
      "rowLimit": 10000
     },
     "inputWidgets": {},
     "nuid": "7537ea12-9fa6-43bb-ae7a-70df63db796d",
     "showTitle": false,
     "tableResultSettingsMap": {},
     "title": ""
    }
   },
   "outputs": [],
   "source": [
    "# silver layer - cleaned_data\n",
    "def export_to_excel(filename,df):\n",
    "    path = f\"/Workspace/Users/varunyadav032003@gmail.com/databricks_apps/hello-world_2025_07_11-09_57/streamlit-hello-world-app/data/{filename}\"\n",
    "    pdf = df.toPandas()\n",
    "    pdf.to_excel(path, index=False, engine='openpyxl')\n",
    "    print(f\"File saved to: {path}\")\n"
   ]
  },
  {
   "cell_type": "code",
   "execution_count": 0,
   "metadata": {
    "application/vnd.databricks.v1+cell": {
     "cellMetadata": {
      "byteLimit": 2048000,
      "rowLimit": 10000
     },
     "inputWidgets": {},
     "nuid": "772d94de-d086-45f2-a7d9-49d916468c37",
     "showTitle": false,
     "tableResultSettingsMap": {},
     "title": ""
    }
   },
   "outputs": [],
   "source": [
    "# Get current timestamp in ISO format\n",
    "last_run_ts  = datetime.now().strftime(\"%Y-%m-%d %H:%M:%S\")\n",
    "record_count = df.count()\n",
    "new_jobs_today = df.filter(\n",
    "    to_date(col(\"posted_at\")) == current_date()\n",
    ").count()\n",
    "\n",
    "print(f\"New jobs today: {new_jobs_today}\")\n",
    "print(f\"Last successful run: {last_run_ts}\")\n",
    "print(f\"Record count: {record_count}\")"
   ]
  },
  {
   "cell_type": "code",
   "execution_count": 0,
   "metadata": {
    "application/vnd.databricks.v1+cell": {
     "cellMetadata": {
      "byteLimit": 2048000,
      "rowLimit": 10000
     },
     "inputWidgets": {},
     "nuid": "f5c011ea-0bbf-4969-a5db-0e9ae0a32b58",
     "showTitle": false,
     "tableResultSettingsMap": {},
     "title": ""
    }
   },
   "outputs": [],
   "source": [
    "# Create dictionary\n",
    "status = {\n",
    "          \"last_successful_run\": last_run_ts ,\n",
    "          \"record_count\": record_count,\n",
    "          \"new_jobs_today\": new_jobs_today\n",
    "}\n",
    "status_json_df = spark.createDataFrame([status])\n",
    "\n",
    "display(status_json_df)"
   ]
  },
  {
   "cell_type": "code",
   "execution_count": 0,
   "metadata": {
    "application/vnd.databricks.v1+cell": {
     "cellMetadata": {
      "byteLimit": 2048000,
      "rowLimit": 10000
     },
     "inputWidgets": {},
     "nuid": "1f7c13e6-f827-45a4-98fe-e5f7c8e69161",
     "showTitle": false,
     "tableResultSettingsMap": {},
     "title": ""
    }
   },
   "outputs": [],
   "source": [
    "\n",
    "def export_status_to_json(spark_df, filename):\n",
    "    path = \"/Workspace/Users/varunyadav032003@gmail.com/databricks_apps/hello-world_2025_07_11-09_57/streamlit-hello-world-app/data/\"\n",
    "    \n",
    "    # Convert to Pandas\n",
    "    pdf = spark_df.toPandas()\n",
    "\n",
    "    # Export as JSON\n",
    "    pdf.to_json(f\"{path}{filename}\", orient=\"records\", lines=False, indent=4)\n",
    "    \n",
    "    print(f\"✅ JSON file saved to: {path}{filename}\")\n"
   ]
  },
  {
   "cell_type": "code",
   "execution_count": 0,
   "metadata": {
    "application/vnd.databricks.v1+cell": {
     "cellMetadata": {
      "byteLimit": 2048000,
      "rowLimit": 10000
     },
     "inputWidgets": {},
     "nuid": "42b1b7c0-16ba-4af9-8c70-adef2be2f930",
     "showTitle": false,
     "tableResultSettingsMap": {},
     "title": ""
    }
   },
   "outputs": [],
   "source": [
    "df_job_posting_trend = spark.sql('select * from job_marketplace.gold_layer.kpi_job_posting_trend')\n",
    "df_jobs_by_location_city = spark.sql('select * from job_marketplace.gold_layer.kpi_jobs_by_location_city')\n",
    "df_remote_vs_onsite = spark.sql('select * from job_marketplace.gold_layer.kpi_remote_vs_onsite')\n",
    "df_top_companies = spark.sql('select * from job_marketplace.gold_layer.kpi_top_companies')"
   ]
  },
  {
   "cell_type": "code",
   "execution_count": 0,
   "metadata": {
    "application/vnd.databricks.v1+cell": {
     "cellMetadata": {
      "byteLimit": 2048000,
      "rowLimit": 10000
     },
     "inputWidgets": {},
     "nuid": "9469962d-0baa-4e10-ad2b-689907d6568c",
     "showTitle": false,
     "tableResultSettingsMap": {},
     "title": ""
    }
   },
   "outputs": [],
   "source": [
    "export_to_excel('jobs_posting_trend.xlsx',df_job_posting_trend)\n",
    "export_to_excel('jobs_by_location_city.xlsx',df_jobs_by_location_city)\n",
    "export_to_excel('remote_vs_onsite.xlsx',df_remote_vs_onsite)\n",
    "export_to_excel('top_companies.xlsx',df_top_companies)"
   ]
  },
  {
   "cell_type": "code",
   "execution_count": 0,
   "metadata": {
    "application/vnd.databricks.v1+cell": {
     "cellMetadata": {
      "byteLimit": 2048000,
      "rowLimit": 10000
     },
     "inputWidgets": {},
     "nuid": "c56ba32d-c336-44ec-8215-e9f24f261152",
     "showTitle": false,
     "tableResultSettingsMap": {},
     "title": ""
    }
   },
   "outputs": [],
   "source": [
    "# export_to_excel(\"pipeline_status.json\",df)\n",
    "export_status_to_json(status_json_df,'pipeline_status.json')"
   ]
  }
 ],
 "metadata": {
  "application/vnd.databricks.v1+notebook": {
   "computePreferences": null,
   "dashboards": [],
   "environmentMetadata": {
    "base_environment": "",
    "environment_version": "2"
   },
   "inputWidgetPreferences": null,
   "language": "python",
   "notebookMetadata": {
    "mostRecentlyExecutedCommandWithImplicitDF": {
     "commandId": 5739403552601802,
     "dataframes": [
      "_sqldf"
     ]
    },
    "pythonIndentUnit": 4
   },
   "notebookName": "write_data_to_app",
   "widgets": {}
  },
  "language_info": {
   "name": "python"
  }
 },
 "nbformat": 4,
 "nbformat_minor": 0
}
